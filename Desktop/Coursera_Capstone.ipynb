{
 "cells": [
  {
   "cell_type": "markdown",
   "id": "6fad8f7f",
   "metadata": {},
   "source": [
    "## Coursera_Capstone\n",
    "\n",
    "### Proyecto Final\n",
    "\n",
    "### Creación de repositorio en GitHub y desarrollo de Notebook Jupyter"
   ]
  },
  {
   "cell_type": "code",
   "execution_count": 1,
   "id": "f747f0d5",
   "metadata": {},
   "outputs": [],
   "source": [
    "import pandas as pd\n",
    "import numpy as np"
   ]
  },
  {
   "cell_type": "code",
   "execution_count": 10,
   "id": "0ee75be2",
   "metadata": {},
   "outputs": [],
   "source": [
    "s = \"¡Hola, Proyecto Final del Curso!\""
   ]
  },
  {
   "cell_type": "code",
   "execution_count": 13,
   "id": "d1404e8f",
   "metadata": {
    "scrolled": true
   },
   "outputs": [
    {
     "name": "stdout",
     "output_type": "stream",
     "text": [
      "¡Hola, Proyecto Final del Curso!\n"
     ]
    }
   ],
   "source": [
    "print (s)"
   ]
  }
 ],
 "metadata": {
  "kernelspec": {
   "display_name": "Python 3 (ipykernel)",
   "language": "python",
   "name": "python3"
  },
  "language_info": {
   "codemirror_mode": {
    "name": "ipython",
    "version": 3
   },
   "file_extension": ".py",
   "mimetype": "text/x-python",
   "name": "python",
   "nbconvert_exporter": "python",
   "pygments_lexer": "ipython3",
   "version": "3.9.13"
  }
 },
 "nbformat": 4,
 "nbformat_minor": 5
}
